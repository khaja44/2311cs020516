{
 "cells": [
  {
   "cell_type": "code",
   "execution_count": 3,
   "id": "199490e6-aa9f-417c-ab83-058a56c675a4",
   "metadata": {},
   "outputs": [
    {
     "name": "stdin",
     "output_type": "stream",
     "text": [
      "Enter marks for subject 1:  58\n",
      "Enter marks for subject 2:  45\n",
      "Enter marks for subject 3:  12\n"
     ]
    },
    {
     "name": "stdout",
     "output_type": "stream",
     "text": [
      "Grade: Fail\n"
     ]
    }
   ],
   "source": [
    "def calculate_grade():\n",
    "    \n",
    "    marks1 = float(input(\"Enter marks for subject 1: \"))\n",
    "    marks2 = float(input(\"Enter marks for subject 2: \"))\n",
    "    marks3 = float(input(\"Enter marks for subject 3: \"))\n",
    "\n",
    "    average = (marks1 + marks2 + marks3) / 3\n",
    "\n",
    "    if average >= 90:\n",
    "        print(\"Grade: A\")\n",
    "    elif 80 <= average < 90:\n",
    "        print(\"Grade: B\")\n",
    "    elif 70 <= average < 80:\n",
    "        print(\"Grade: C\")\n",
    "    else:\n",
    "        print(\"Grade: Fail\")\n",
    "calculate_grade()\n",
    "\n"
   ]
  },
  {
   "cell_type": "code",
   "execution_count": null,
   "id": "97f7e856-833d-4351-b1c2-1cfc92c41799",
   "metadata": {},
   "outputs": [],
   "source": []
  }
 ],
 "metadata": {
  "kernelspec": {
   "display_name": "Python 3 (ipykernel)",
   "language": "python",
   "name": "python3"
  },
  "language_info": {
   "codemirror_mode": {
    "name": "ipython",
    "version": 3
   },
   "file_extension": ".py",
   "mimetype": "text/x-python",
   "name": "python",
   "nbconvert_exporter": "python",
   "pygments_lexer": "ipython3",
   "version": "3.12.7"
  }
 },
 "nbformat": 4,
 "nbformat_minor": 5
}
