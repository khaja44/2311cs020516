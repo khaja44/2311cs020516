{
 "cells": [
  {
   "cell_type": "code",
   "execution_count": 2,
   "id": "15a69171-9592-4a88-98e2-eeb6a8cd0284",
   "metadata": {},
   "outputs": [],
   "source": [
    "import numpy as np\n",
    "import pandas as pd"
   ]
  },
  {
   "cell_type": "code",
   "execution_count": 6,
   "id": "c18a049c-940e-439a-9451-29570d751936",
   "metadata": {},
   "outputs": [],
   "source": [
    "a = np.random.randint(10,50,16)"
   ]
  },
  {
   "cell_type": "code",
   "execution_count": 7,
   "id": "d49af009-6bc0-4c39-a4ed-975e447f1036",
   "metadata": {},
   "outputs": [
    {
     "data": {
      "text/plain": [
       "array([16, 30, 36, 12, 19, 34, 21, 43, 10, 14, 33, 41, 33, 40, 37, 37])"
      ]
     },
     "execution_count": 7,
     "metadata": {},
     "output_type": "execute_result"
    }
   ],
   "source": [
    "a"
   ]
  },
  {
   "cell_type": "code",
   "execution_count": 9,
   "id": "68cdb96a-2258-4a3a-82f7-1f53b0db44b4",
   "metadata": {},
   "outputs": [
    {
     "data": {
      "text/plain": [
       "array([41, 33])"
      ]
     },
     "execution_count": 9,
     "metadata": {},
     "output_type": "execute_result"
    }
   ],
   "source": [
    "a[-5:-7:-1]"
   ]
  },
  {
   "cell_type": "code",
   "execution_count": 31,
   "id": "bbff8f6a-7cb7-42ab-b919-b54635206438",
   "metadata": {},
   "outputs": [
    {
     "data": {
      "text/plain": [
       "array([[48, 45, 68, 62, 62, 46, 60, 49],\n",
       "       [63, 56, 60, 54, 63, 52, 70, 76],\n",
       "       [73, 45, 57, 76, 46, 51, 62, 51],\n",
       "       [46, 70, 55, 45, 72, 48, 49, 46],\n",
       "       [55, 52, 50, 64, 45, 72, 66, 47],\n",
       "       [77, 67, 56, 75, 66, 49, 48, 52],\n",
       "       [53, 48, 51, 68, 55, 56, 61, 72]])"
      ]
     },
     "execution_count": 31,
     "metadata": {},
     "output_type": "execute_result"
    }
   ],
   "source": [
    "np.random.seed(24)\n",
    "b = np.random.randint(45,78,(7,8))\n",
    "b"
   ]
  },
  {
   "cell_type": "code",
   "execution_count": 26,
   "id": "20def2ef-2ec3-42d3-b5f4-3215cb063f8c",
   "metadata": {},
   "outputs": [
    {
     "data": {
      "text/plain": [
       "1"
      ]
     },
     "execution_count": 26,
     "metadata": {},
     "output_type": "execute_result"
    }
   ],
   "source": [
    "a.ndim"
   ]
  },
  {
   "cell_type": "code",
   "execution_count": 16,
   "id": "9826eba4-d57b-46ce-8d28-3fce428599cf",
   "metadata": {},
   "outputs": [
    {
     "data": {
      "text/plain": [
       "2"
      ]
     },
     "execution_count": 16,
     "metadata": {},
     "output_type": "execute_result"
    }
   ],
   "source": [
    "b.ndim"
   ]
  },
  {
   "cell_type": "code",
   "execution_count": 21,
   "id": "ca8131e6-122c-4d01-b1d2-44632dbea3dd",
   "metadata": {},
   "outputs": [
    {
     "data": {
      "text/plain": [
       "array([11, 15, 14, 81, 78, 49, 20, 16, 15, 18, 35, 20])"
      ]
     },
     "execution_count": 21,
     "metadata": {},
     "output_type": "execute_result"
    }
   ],
   "source": [
    "a=np.array([11,15,14,81,78,49,20,16,15,18,35,20])\n",
    "a"
   ]
  },
  {
   "cell_type": "code",
   "execution_count": 22,
   "id": "e81e5c4d-d463-4330-a567-7b383e1a3275",
   "metadata": {},
   "outputs": [
    {
     "data": {
      "text/plain": [
       "array([71, 73, 55, 53, 54, 54, 65])"
      ]
     },
     "execution_count": 22,
     "metadata": {},
     "output_type": "execute_result"
    }
   ],
   "source": [
    "b[:,7]  # 7 th col"
   ]
  },
  {
   "cell_type": "code",
   "execution_count": 23,
   "id": "2132f863-8327-4cdd-9fcc-8804d715d896",
   "metadata": {},
   "outputs": [
    {
     "data": {
      "text/plain": [
       "array([71, 66, 46, 55, 53, 72, 63])"
      ]
     },
     "execution_count": 23,
     "metadata": {},
     "output_type": "execute_result"
    }
   ],
   "source": [
    "b[:,4]  # 4 th col"
   ]
  },
  {
   "cell_type": "code",
   "execution_count": 34,
   "id": "e527eb0f-e8ef-40a6-bced-c9e8342d80f4",
   "metadata": {},
   "outputs": [
    {
     "data": {
      "text/plain": [
       "array([48, 45, 68, 62, 62, 46, 60, 49])"
      ]
     },
     "execution_count": 34,
     "metadata": {},
     "output_type": "execute_result"
    }
   ],
   "source": [
    "b[2] # 2 nd  row"
   ]
  },
  {
   "cell_type": "code",
   "execution_count": 35,
   "id": "123d1bab-3210-45cd-a8ee-1940670909a8",
   "metadata": {},
   "outputs": [
    {
     "data": {
      "text/plain": [
       "54"
      ]
     },
     "execution_count": 35,
     "metadata": {},
     "output_type": "execute_result"
    }
   ],
   "source": [
    "b[1,3]  # 1 row 3 col number or value or position"
   ]
  },
  {
   "cell_type": "code",
   "execution_count": 36,
   "id": "f8f447ac-ba6d-4c2f-8739-2ea5becb489a",
   "metadata": {},
   "outputs": [
    {
     "data": {
      "text/plain": [
       "array([62, 54, 76, 45, 64, 75, 68])"
      ]
     },
     "execution_count": 36,
     "metadata": {},
     "output_type": "execute_result"
    }
   ],
   "source": [
    "b[:,3]"
   ]
  },
  {
   "cell_type": "code",
   "execution_count": 37,
   "id": "59140948-daf7-4c43-8de8-7a8c0f775118",
   "metadata": {},
   "outputs": [
    {
     "data": {
      "text/plain": [
       "array([[48, 45, 68, 62, 62, 46, 60, 49],\n",
       "       [63, 56, 60, 54, 63, 52, 70, 76],\n",
       "       [73, 45, 57, 76, 46, 51, 62, 51],\n",
       "       [46, 70, 55, 45, 72, 48, 49, 46],\n",
       "       [55, 52, 50, 64, 45, 72, 66, 47],\n",
       "       [77, 67, 56, 75, 66, 49, 48, 52],\n",
       "       [53, 48, 51, 68, 55, 56, 61, 72]])"
      ]
     },
     "execution_count": 37,
     "metadata": {},
     "output_type": "execute_result"
    }
   ],
   "source": [
    "b"
   ]
  },
  {
   "cell_type": "code",
   "execution_count": 39,
   "id": "aa5c8a7e-72d1-43a7-b1f6-7b6ca1432522",
   "metadata": {},
   "outputs": [
    {
     "data": {
      "text/plain": [
       "array([45, 57, 76, 46, 51, 62])"
      ]
     },
     "execution_count": 39,
     "metadata": {},
     "output_type": "execute_result"
    }
   ],
   "source": [
    "b[2,1:7]   #  row = left part\n",
    "           # here 2 is row \n",
    "           # here start position is 1 and 7 is end position in row\n",
    "\n",
    "###array [ row _start : row-end: row - step ]"
   ]
  },
  {
   "cell_type": "code",
   "execution_count": 41,
   "id": "6b8bdfcc-9c28-4f61-b513-589486371c1d",
   "metadata": {},
   "outputs": [
    {
     "data": {
      "text/plain": [
       "array([[63, 56, 60, 54, 63, 52, 70, 76],\n",
       "       [46, 70, 55, 45, 72, 48, 49, 46],\n",
       "       [77, 67, 56, 75, 66, 49, 48, 52]])"
      ]
     },
     "execution_count": 41,
     "metadata": {},
     "output_type": "execute_result"
    }
   ],
   "source": [
    "b [1:6:2]  # array[row_start:row_end - step ]"
   ]
  },
  {
   "cell_type": "code",
   "execution_count": 48,
   "id": "108e6aab-32c5-4be4-a221-f9658a5f4858",
   "metadata": {},
   "outputs": [
    {
     "data": {
      "text/plain": [
       "array([[56, 60, 54, 63, 52],\n",
       "       [70, 55, 45, 72, 48],\n",
       "       [67, 56, 75, 66, 49]])"
      ]
     },
     "execution_count": 48,
     "metadata": {},
     "output_type": "execute_result"
    }
   ],
   "source": [
    "b [1:6:2,1:6]     # array[row_start:row_end - step ,col_start: col_end : step]"
   ]
  },
  {
   "cell_type": "code",
   "execution_count": 60,
   "id": "a35e826a-3c80-48f9-b7ae-1048a2a9b75d",
   "metadata": {},
   "outputs": [
    {
     "data": {
      "text/plain": [
       "array([[56, 54, 52, 76],\n",
       "       [70, 45, 48, 46],\n",
       "       [67, 75, 49, 52]])"
      ]
     },
     "execution_count": 60,
     "metadata": {},
     "output_type": "execute_result"
    }
   ],
   "source": [
    "b[1:6:2,1:8:2]     # array[row_start:row_end - step ,col_start: col_end : step]\n",
    "\n",
    "#left side row operations\n",
    "#right side col operations"
   ]
  },
  {
   "cell_type": "code",
   "execution_count": 55,
   "id": "4f843fb5-d04a-41fb-9c2f-130a3a0d66df",
   "metadata": {},
   "outputs": [
    {
     "data": {
      "text/plain": [
       "array([[48, 45, 68, 62, 62, 46, 60, 49],\n",
       "       [63, 56, 60, 54, 63, 52, 70, 76],\n",
       "       [73, 45, 57, 76, 46, 51, 62, 51],\n",
       "       [46, 70, 55, 45, 72, 48, 49, 46],\n",
       "       [55, 52, 50, 64, 45, 72, 66, 47],\n",
       "       [77, 67, 56, 75, 66, 49, 48, 52],\n",
       "       [53, 48, 51, 68, 55, 56, 61, 72]])"
      ]
     },
     "execution_count": 55,
     "metadata": {},
     "output_type": "execute_result"
    }
   ],
   "source": [
    "b"
   ]
  },
  {
   "cell_type": "code",
   "execution_count": null,
   "id": "97780584-822b-4f28-a680-48f978a3ceb2",
   "metadata": {},
   "outputs": [],
   "source": []
  }
 ],
 "metadata": {
  "kernelspec": {
   "display_name": "Python 3 (ipykernel)",
   "language": "python",
   "name": "python3"
  },
  "language_info": {
   "codemirror_mode": {
    "name": "ipython",
    "version": 3
   },
   "file_extension": ".py",
   "mimetype": "text/x-python",
   "name": "python",
   "nbconvert_exporter": "python",
   "pygments_lexer": "ipython3",
   "version": "3.12.7"
  }
 },
 "nbformat": 4,
 "nbformat_minor": 5
}
